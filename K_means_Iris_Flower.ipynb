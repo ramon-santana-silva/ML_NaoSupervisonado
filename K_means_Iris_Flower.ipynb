{
  "nbformat": 4,
  "nbformat_minor": 0,
  "metadata": {
    "colab": {
      "provenance": [],
      "authorship_tag": "ABX9TyMiBtLK2+TBms2r91Jztq/o",
      "include_colab_link": true
    },
    "kernelspec": {
      "name": "python3",
      "display_name": "Python 3"
    },
    "language_info": {
      "name": "python"
    }
  },
  "cells": [
    {
      "cell_type": "markdown",
      "metadata": {
        "id": "view-in-github",
        "colab_type": "text"
      },
      "source": [
        "<a href=\"https://colab.research.google.com/github/ramon-santana-silva/ML_supervisonado/blob/main/K_means_Iris_Flower.ipynb\" target=\"_parent\"><img src=\"https://colab.research.google.com/assets/colab-badge.svg\" alt=\"Open In Colab\"/></a>"
      ]
    },
    {
      "cell_type": "code",
      "execution_count": 1,
      "metadata": {
        "id": "1HZf07rWWUfI"
      },
      "outputs": [],
      "source": [
        "import numpy  as np\n",
        "import pandas as pd\n",
        "import matplotlib.pyplot as pl\n",
        "import seaborn as sb\n",
        "\n",
        "%matplotlib inline"
      ]
    },
    {
      "cell_type": "code",
      "source": [
        "df = pd.read_csv('iris.csv')"
      ],
      "metadata": {
        "id": "wPCbU35mWppH"
      },
      "execution_count": null,
      "outputs": []
    }
  ]
}