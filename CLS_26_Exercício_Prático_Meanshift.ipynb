{
  "nbformat": 4,
  "nbformat_minor": 0,
  "metadata": {
    "colab": {
      "provenance": [],
      "include_colab_link": true
    },
    "kernelspec": {
      "name": "python3",
      "display_name": "Python 3"
    },
    "language_info": {
      "name": "python"
    }
  },
  "cells": [
    {
      "cell_type": "markdown",
      "metadata": {
        "id": "view-in-github",
        "colab_type": "text"
      },
      "source": [
        "<a href=\"https://colab.research.google.com/github/ramon-santana-silva/ML_NaoSupervisonado/blob/main/CLS_26_Exerc%C3%ADcio_Pr%C3%A1tico_Meanshift.ipynb\" target=\"_parent\"><img src=\"https://colab.research.google.com/assets/colab-badge.svg\" alt=\"Open In Colab\"/></a>"
      ]
    },
    {
      "cell_type": "markdown",
      "metadata": {
        "id": "rCRnG_GY8cyP"
      },
      "source": [
        "# Exercício de Meanshit\n",
        "\n",
        "Você deve aplicar os conceitos e o algoritmo em dois exemplos, uma com valores criados para exemplificar o modelo e outro com valores reais"
      ]
    },
    {
      "cell_type": "markdown",
      "metadata": {
        "id": "Og_tqJoo8xCQ"
      },
      "source": [
        "## Exemplo Prático\n",
        "\n",
        "Neste exemplo, iremos criar dados imaginários que serão utilizados para realização da clusterização. Para isso, utilize o segmento de código abaixo e a Variável **X**"
      ]
    },
    {
      "cell_type": "code",
      "metadata": {
        "id": "CiLtwens9WlT"
      },
      "source": [
        "from sklearn.datasets import make_blobs\n",
        "position = [[6,6,3],[3,3,3],[1,1,5]]\n",
        "X,_=make_blobs(n_samples=500,centers=position,cluster_std=0.70)\n",
        "X"
      ],
      "execution_count": null,
      "outputs": []
    },
    {
      "cell_type": "markdown",
      "metadata": {
        "id": "mxgbw9GY-Fpo"
      },
      "source": [
        "### 0 - Importação das bibliotecas"
      ]
    },
    {
      "cell_type": "markdown",
      "metadata": {
        "id": "wS5ljcnN-Pco"
      },
      "source": [
        "### 1 - Visualização dos dados"
      ]
    },
    {
      "cell_type": "markdown",
      "metadata": {
        "id": "pdDzLbsY-xtl"
      },
      "source": [
        "### 2 - Aplicação básica do Meanshift"
      ]
    },
    {
      "cell_type": "markdown",
      "metadata": {
        "id": "T3HfWTWG-8FM"
      },
      "source": [
        "### 3 - Visualização dos resultados"
      ]
    },
    {
      "cell_type": "markdown",
      "metadata": {
        "id": "gXhjAbltBaJ5"
      },
      "source": [
        "## Exemplo real - CLusterização de Massa Corporal\n",
        "\n",
        "Utilizando o dataset abaixo, que contém informação de Altura e Peso de diversos indivíduos, iremos analisar os a diferença do MeanShift e do KMeans nesse processo.\n",
        "\n",
        "Imagine que você esteja fazendo um estudo sobre o IMC (Índice de Massa Corporal) das pessoas da Região e você deseja classificar elas em N grupos distintos, como fazer isso? Utilizando o aprendizado Não-Supervisionado. Para isso, você deve analisar os valores utilizando o Kmeans e o MeanShift e ao final, avaliar qual seria o melhor resultado."
      ]
    },
    {
      "cell_type": "markdown",
      "metadata": {
        "id": "SfYHosN_B0R1"
      },
      "source": [
        "### 0 - Importação da Biblioteca"
      ]
    },
    {
      "cell_type": "markdown",
      "metadata": {
        "id": "tRR2NCx0B3_i"
      },
      "source": [
        "### 1 - Análise Inicial dos dados"
      ]
    },
    {
      "cell_type": "markdown",
      "metadata": {
        "id": "2RnNgdPzB8de"
      },
      "source": [
        "### 2 - Método do Elbow (Descubrir número de clusteres com KMean)"
      ]
    },
    {
      "cell_type": "markdown",
      "metadata": {
        "id": "dxedRi5OCV9Q"
      },
      "source": [
        "### 3 - Clusterização utilizando o Kmeans"
      ]
    },
    {
      "cell_type": "markdown",
      "metadata": {
        "id": "4kh5mgqMCmBQ"
      },
      "source": [
        "### 4 - Clusterização utilizando o MeanShift"
      ]
    },
    {
      "cell_type": "markdown",
      "metadata": {
        "id": "_jfEupf_D1ce"
      },
      "source": [
        "### 5 - Comparação visual dos métodos"
      ]
    }
  ]
}